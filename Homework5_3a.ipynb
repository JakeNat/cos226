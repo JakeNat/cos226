{
 "cells": [
  {
   "cell_type": "code",
   "execution_count": 1,
   "metadata": {},
   "outputs": [],
   "source": [
    "class Vertex:\n",
    "    def __init__(self,value=None):\n",
    "        self.value = value\n",
    "        \n",
    "class Edge:\n",
    "    def __init__(self,u,v,value=None):\n",
    "        self.u = u\n",
    "        self.v = v\n",
    "        self.value = value\n",
    "    \n",
    "    # Return tuple of origin/vertex of an edge\n",
    "    def endpoints(self):\n",
    "        verts = (self.u.value,self.v.value)\n",
    "        return verts\n",
    "    \n",
    "    # Return opposite endpoint of a particular edge\n",
    "    def opposite(self,x):\n",
    "        return self.v.value if x is self.u.value else self.u.value\n",
    "        \n",
    "class Graph:\n",
    "    # Return number of vertices in the graph\n",
    "    def vertex_count(self):\n",
    "        print(\"Calling dummy method\")\n",
    "    \n",
    "    # Return all vertices in graph\n",
    "    def vertices(self):\n",
    "        print(\"Calling dummy method\")\n",
    "        \n",
    "    # Return the number of edges in the graph\n",
    "    def edge_count(self):\n",
    "        print(\"Calling dummy method\")\n",
    "        \n",
    "    # Return all edges in graph\n",
    "    def edges(self):\n",
    "        print(\"Calling dummy method\")\n",
    "        \n",
    "    # Return the edge from vertex u to vertex v\n",
    "    def get_edge(self,u,v):\n",
    "        print(\"Calling dummy method\")\n",
    "        \n",
    "    # Return the number of edges incident to vertex v\n",
    "    def degree(self,v,out=True):\n",
    "        print(\"Calling dummy method\")\n",
    "    \n",
    "    # Return an iteration of all edges incident to vertex v\n",
    "    def incident_edges(v,out=True):\n",
    "        print(\"Calling dummy method\")\n",
    "        \n",
    "    # Create and return a new Vertex storing element x\n",
    "    def insert_vertex(self,x=None):\n",
    "        print(\"Calling dummy method\")\n",
    "        \n",
    "    # Create and return a new Edge from vertex u to vertex v, storing element x\n",
    "    def insert_edge(self,u,v,x=None):\n",
    "        print(\"Calling dummy method\")\n",
    "        \n",
    "    # Remove vertex v and all its incident edges from the graph\n",
    "    def remove_vertex(self,v):\n",
    "        print(\"Calling dummy method\")\n",
    "        \n",
    "    # Remove edge e from the graph\n",
    "    def remove_edge(self,e):\n",
    "        print(\"Calling dummy method\")\n",
    "        \n",
    "class GraphEdge(Graph):\n",
    "    def __init__(self):\n",
    "        self._edges = list()\n",
    "        \n",
    "    # Return all edges in graph\n",
    "    def edges(self):\n",
    "        return self._edges.copy()\n",
    "    \n",
    "    # Return the edge from vertex u to vertex v\n",
    "    def get_edge(self,u,v):\n",
    "        for edge in self._edges:\n",
    "            if (self.same_vertex(u,edge.u.value) and self.same_vertex(v,edge.v.value)) or (\n",
    "                self.same_vertex(v,edge.u.value) and self.same_vertex(u,edge.v.value)\n",
    "            ):\n",
    "                return edge\n",
    "            \n",
    "    # Return True if u = v, where both are Vertex instances or values\n",
    "    def same_vertex(self,u,v):\n",
    "        # If vertexes are the same\n",
    "        if u == v:\n",
    "            return True\n",
    "        # If u or v are NOT Vertex instance\n",
    "        elif not isinstance(u,Vertex) or not isinstance(v,Vertex):\n",
    "            return False\n",
    "        elif u.value == v.value:\n",
    "            return True\n",
    "        else:\n",
    "            return False\n",
    "        \n",
    "    # Return all vertices in graph\n",
    "    def vertices(self):\n",
    "        verts = list()\n",
    "        for edge in self._edges:\n",
    "            if edge.u not in verts:\n",
    "                verts.append(edge.u)\n",
    "            if edge.v not in verts:\n",
    "                verts.append(edge.v)\n",
    "        return verts if verts else None\n",
    "    \n",
    "    # Return vertex with value toFind\n",
    "    def get_vertex(self,toFind):\n",
    "        for edge in self._edges:\n",
    "            if self.same_vertex(toFind,edge.u.value):\n",
    "                return edge.u\n",
    "            if self.same_vertex(toFind,edge.v.value):\n",
    "                return edge.v\n",
    "    \n",
    "    # Create and return a new Edge from vertex u to vertex v\n",
    "    def insert_edge(self,u,v,value=None):\n",
    "        # Find vertices if it exists\n",
    "        (u_vert,v_vert) = (self.get_vertex(u),self.get_vertex(v))\n",
    "        \n",
    "        # If a vertex doesn't exist, create it\n",
    "        u_vert = Vertex(value=u) if u_vert is None else u_vert\n",
    "        v_vert = Vertex(value=v) if v_vert is None else v_vert\n",
    "        \n",
    "        edge = Edge(u_vert,v_vert,value)\n",
    "        self._edges.append(edge)\n",
    "        return edge\n",
    "    \n",
    "    # Return an iteration of all edges incident to vertex x\n",
    "    def incident_edges(self,x):\n",
    "        edges = []\n",
    "        for edge in self._edges:\n",
    "            if (self.same_vertex(x,edge.u.value) or self.same_vertex(x,edge.v.value)):\n",
    "                edges.append(edge)\n",
    "        return edges if edges else None\n",
    "    \n",
    "    # Remove an edge\n",
    "    def remove_edge(self,u,v):\n",
    "        for pos in range(len(self._edges)):\n",
    "            edge = self._edges[pos]\n",
    "            if (self.same_vertex(u,edge.u.value) and self.same_vertex(v,edge.v.value)) or (\n",
    "                self.same_vertex(v,edge.u.value) and self.same_vertex(u,edge.v.value)):\n",
    "                self._edges = self._edges[0:pos] + self._edges[pos+1:]\n",
    "                break\n",
    "                \n",
    "    # Remove a vertex and its incident edges\n",
    "    def remove_vertex(self,x):\n",
    "        for pos in range(len(self._edges)):\n",
    "            edge = self._edges[pos]\n",
    "            if (self.same_vertex(x,edge.u.value) or self.same_vertex(x,edge.v.value)):\n",
    "                self._edges = self._edges[0:pos] + self._edges[pos+1:]\n",
    "                break\n",
    "    \n",
    "    # Return the number of vertices in the graph\n",
    "    def vertex_count(self):\n",
    "        verts = list()\n",
    "        for edge in self._edges:\n",
    "            if edge.u not in verts:\n",
    "                verts.append(edge.u)\n",
    "            if edge.v not in verts:\n",
    "                verts.append(edge.v)\n",
    "        return len(verts)\n",
    "    \n",
    "    # Return the number of edges in the graph\n",
    "    def edge_count(self):\n",
    "        return len(self._edges)\n",
    "    \n",
    "    # Return the number of edges incident to vertex x\n",
    "    def degree(self,x):\n",
    "        edges = []\n",
    "        for edge in self._edges:\n",
    "            if self.same_vertex(x,edge.u.value) or self.same_vertex(x,edge.v.value):\n",
    "                edges.append(edge)\n",
    "        return len(edges)\n",
    "    \n",
    "    # Create and return a new Vertex storing element x\n",
    "    def insert_vertex(self,x):\n",
    "        # Find vertex if it exists\n",
    "        vert = self.get_vertex(x)\n",
    "        \n",
    "        # If a vertex doesn't exist, create it\n",
    "        vert = Vertex(value=x)\n",
    "        \n",
    "        # Wasn't sure WHERE to insert, as I didn't use a vertices\n",
    "        # list in this class, so creates a self-loop\n",
    "        edge = Edge(vert,vert)\n",
    "        self._edges.append(edge)\n",
    "        return edge"
   ]
  },
  {
   "cell_type": "code",
   "execution_count": 2,
   "metadata": {},
   "outputs": [],
   "source": [
    "# Instantiate graph\n",
    "graph = GraphEdge()"
   ]
  },
  {
   "cell_type": "code",
   "execution_count": 3,
   "metadata": {},
   "outputs": [
    {
     "data": {
      "text/plain": [
       "<__main__.Edge at 0x1ebbe533400>"
      ]
     },
     "execution_count": 3,
     "metadata": {},
     "output_type": "execute_result"
    }
   ],
   "source": [
    "# insert_edge() - Create and return a new Edge from vertex u to vertex v\n",
    "graph.insert_edge(1,2)\n",
    "graph.insert_edge(2,3)\n",
    "graph.insert_edge(4,5)"
   ]
  },
  {
   "cell_type": "code",
   "execution_count": 4,
   "metadata": {
    "scrolled": true
   },
   "outputs": [
    {
     "data": {
      "text/plain": [
       "[<__main__.Edge at 0x1ebbe51a6d0>,\n",
       " <__main__.Edge at 0x1ebbe533d00>,\n",
       " <__main__.Edge at 0x1ebbe533400>]"
      ]
     },
     "execution_count": 4,
     "metadata": {},
     "output_type": "execute_result"
    }
   ],
   "source": [
    "# edges() - Return all edges in graph\n",
    "graph.edges()"
   ]
  },
  {
   "cell_type": "code",
   "execution_count": 5,
   "metadata": {},
   "outputs": [
    {
     "data": {
      "text/plain": [
       "3"
      ]
     },
     "execution_count": 5,
     "metadata": {},
     "output_type": "execute_result"
    }
   ],
   "source": [
    "# edge_count() - Return the number of edges in the graph\n",
    "graph.edge_count()"
   ]
  },
  {
   "cell_type": "code",
   "execution_count": 6,
   "metadata": {},
   "outputs": [
    {
     "data": {
      "text/plain": [
       "<__main__.Edge at 0x1ebbe533d00>"
      ]
     },
     "execution_count": 6,
     "metadata": {},
     "output_type": "execute_result"
    }
   ],
   "source": [
    "# get_edge() - Return the edge from vertex u to vertex v\n",
    "graph.get_edge(2,3)"
   ]
  },
  {
   "cell_type": "code",
   "execution_count": 7,
   "metadata": {},
   "outputs": [
    {
     "data": {
      "text/plain": [
       "<__main__.Edge at 0x1ebbe533d00>"
      ]
     },
     "execution_count": 7,
     "metadata": {},
     "output_type": "execute_result"
    }
   ],
   "source": [
    "# Showing how get_edge(v,u) is the same as get_edge(u,v)\n",
    "graph.get_edge(3,2)"
   ]
  },
  {
   "cell_type": "code",
   "execution_count": 8,
   "metadata": {},
   "outputs": [
    {
     "name": "stdout",
     "output_type": "stream",
     "text": [
      "2 3\n"
     ]
    }
   ],
   "source": [
    "# Proof that get_edge() returns the correct edge:\n",
    "# Edge(2,3) is the second one added, so index 1 to show it\n",
    "edges = []\n",
    "edges = graph.edges()\n",
    "print(edges[1].u.value,edges[1].v.value)"
   ]
  },
  {
   "cell_type": "code",
   "execution_count": 9,
   "metadata": {},
   "outputs": [
    {
     "data": {
      "text/plain": [
       "[<__main__.Edge at 0x1ebbe51a6d0>, <__main__.Edge at 0x1ebbe533d00>]"
      ]
     },
     "execution_count": 9,
     "metadata": {},
     "output_type": "execute_result"
    }
   ],
   "source": [
    "# incident_edges() - Return an iteration of all edges incident to vertex v\n",
    "graph.incident_edges(2)"
   ]
  },
  {
   "cell_type": "code",
   "execution_count": 10,
   "metadata": {},
   "outputs": [
    {
     "name": "stdout",
     "output_type": "stream",
     "text": [
      "Edges incident on 2:\n",
      "(1, 2) (2, 3)\n"
     ]
    }
   ],
   "source": [
    "# Proof that incident_edges() returns the correct edges:\n",
    "edges = []\n",
    "edges = graph.edges()\n",
    "print(\"Edges incident on 2:\")\n",
    "print(edges[0].endpoints(),edges[1].endpoints())"
   ]
  },
  {
   "cell_type": "code",
   "execution_count": 11,
   "metadata": {},
   "outputs": [
    {
     "data": {
      "text/plain": [
       "2"
      ]
     },
     "execution_count": 11,
     "metadata": {},
     "output_type": "execute_result"
    }
   ],
   "source": [
    "# degree() - Return the number of edges incident to vertex v (proof above)\n",
    "graph.degree(2)"
   ]
  },
  {
   "cell_type": "code",
   "execution_count": 12,
   "metadata": {},
   "outputs": [
    {
     "data": {
      "text/plain": [
       "[<__main__.Vertex at 0x1ebbe51a7f0>,\n",
       " <__main__.Vertex at 0x1ebbe51a790>,\n",
       " <__main__.Vertex at 0x1ebbe51a670>,\n",
       " <__main__.Vertex at 0x1ebbe533dc0>,\n",
       " <__main__.Vertex at 0x1ebbe5333a0>]"
      ]
     },
     "execution_count": 12,
     "metadata": {},
     "output_type": "execute_result"
    }
   ],
   "source": [
    "# vertices() - Return all vertices in graph\n",
    "graph.vertices()"
   ]
  },
  {
   "cell_type": "code",
   "execution_count": 13,
   "metadata": {
    "scrolled": true
   },
   "outputs": [
    {
     "data": {
      "text/plain": [
       "5"
      ]
     },
     "execution_count": 13,
     "metadata": {},
     "output_type": "execute_result"
    }
   ],
   "source": [
    "# vertex_count() - Return number of vertices in the graph (proof above)\n",
    "graph.vertex_count()"
   ]
  },
  {
   "cell_type": "markdown",
   "metadata": {},
   "source": [
    "Wasn't sure how to insert a sole vertex, so insert_vertex() creates an edge that is a self-loop. I have shown how the vertex count still increases when calling this method."
   ]
  },
  {
   "cell_type": "code",
   "execution_count": 14,
   "metadata": {},
   "outputs": [
    {
     "name": "stdout",
     "output_type": "stream",
     "text": [
      "Vertex count before call to insert_vertex(): 5\n"
     ]
    },
    {
     "data": {
      "text/plain": [
       "<__main__.Edge at 0x1ebbe580310>"
      ]
     },
     "execution_count": 14,
     "metadata": {},
     "output_type": "execute_result"
    }
   ],
   "source": [
    "# insert_vertex - Create and return a new Vertex storing element x\n",
    "print(\"Vertex count before call to insert_vertex(): \"+str(graph.vertex_count()))\n",
    "graph.insert_vertex(6)"
   ]
  },
  {
   "cell_type": "code",
   "execution_count": 15,
   "metadata": {},
   "outputs": [
    {
     "name": "stdout",
     "output_type": "stream",
     "text": [
      "Vertex count after call to insert_vertex(): 6\n"
     ]
    }
   ],
   "source": [
    "# Shows how insert_vertex increases the vertex count\n",
    "print(\"Vertex count after call to insert_vertex(): \"+str(graph.vertex_count()))"
   ]
  },
  {
   "cell_type": "code",
   "execution_count": 16,
   "metadata": {},
   "outputs": [
    {
     "name": "stdout",
     "output_type": "stream",
     "text": [
      "\n",
      "Edge count before call to remove_edge(): 4\n",
      "\n",
      "Edge count after call to remove_edge(): 3\n"
     ]
    }
   ],
   "source": [
    "# remove_edge() - Remove an edge\n",
    "# Shows that remove_edge() works\n",
    "print(\"\\nEdge count before call to remove_edge(): \"+str(graph.edge_count()))\n",
    "graph.remove_edge(4,5)\n",
    "print(\"\\nEdge count after call to remove_edge(): \"+str(graph.edge_count()))\n"
   ]
  },
  {
   "cell_type": "code",
   "execution_count": 17,
   "metadata": {},
   "outputs": [
    {
     "name": "stdout",
     "output_type": "stream",
     "text": [
      "1 2\n",
      "2 3\n",
      "6 6\n"
     ]
    },
    {
     "data": {
      "text/plain": [
       "[<__main__.Edge at 0x1ebbe51a6d0>,\n",
       " <__main__.Edge at 0x1ebbe533d00>,\n",
       " <__main__.Edge at 0x1ebbe580310>]"
      ]
     },
     "execution_count": 17,
     "metadata": {},
     "output_type": "execute_result"
    }
   ],
   "source": [
    "# Edge(4,5) is removed\n",
    "for i in graph._edges:\n",
    "    print(i.u.value,i.v.value)\n",
    "graph.edges()"
   ]
  },
  {
   "cell_type": "code",
   "execution_count": 18,
   "metadata": {
    "scrolled": true
   },
   "outputs": [
    {
     "name": "stdout",
     "output_type": "stream",
     "text": [
      "1 2\n",
      "2 3\n",
      "6 6\n",
      "\n",
      "Edge count before call to remove_vertex(): 3\n"
     ]
    }
   ],
   "source": [
    "# remove_vertex() - Remove a vertex and its incident edges\n",
    "for i in graph._edges:\n",
    "    print(i.u.value,i.v.value)\n",
    "print(\"\\nEdge count before call to remove_vertex(): \"+str(graph.edge_count()))\n",
    "graph.remove_vertex(1)"
   ]
  },
  {
   "cell_type": "code",
   "execution_count": 19,
   "metadata": {},
   "outputs": [
    {
     "name": "stdout",
     "output_type": "stream",
     "text": [
      "2 3\n",
      "6 6\n",
      "\n",
      "Edge count after call to remove_vertex(): 2\n"
     ]
    }
   ],
   "source": [
    "# Shows that remove_vertex() works - all edges incident to 1 have been removed\n",
    "for i in graph._edges:\n",
    "    print(i.u.value,i.v.value)\n",
    "print(\"\\nEdge count after call to remove_vertex(): \"+str(graph.edge_count()))"
   ]
  }
 ],
 "metadata": {
  "kernelspec": {
   "display_name": "Python 3",
   "language": "python",
   "name": "python3"
  },
  "language_info": {
   "codemirror_mode": {
    "name": "ipython",
    "version": 3
   },
   "file_extension": ".py",
   "mimetype": "text/x-python",
   "name": "python",
   "nbconvert_exporter": "python",
   "pygments_lexer": "ipython3",
   "version": "3.8.3"
  }
 },
 "nbformat": 4,
 "nbformat_minor": 4
}
