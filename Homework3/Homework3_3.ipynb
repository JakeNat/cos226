{
 "cells": [
  {
   "cell_type": "markdown",
   "metadata": {},
   "source": [
    "3. Implement a Tree class and a BinaryTree subclass. Also implement a Position class that works as the done in the book, as well as a method to either print or draw your tree.\n",
    "\n",
    "The concept of the Position class threw me off for the entirety of this assignment. I can't seem to grasp why you would have an abstraction for a node (Position) whilst still having a Node class.\n",
    "\n",
    "I went off of what we did in COS 225, where we created a TreeNode class which handles the operations of a tree. I realize this isn't what the assignment asks for, but I'm at a complete loss."
   ]
  },
  {
   "cell_type": "code",
   "execution_count": 49,
   "metadata": {
    "scrolled": true
   },
   "outputs": [],
   "source": [
    "# Uses the drawtree module to print the tree nicely\n",
    "# $ pip install drawtree\n",
    "\n",
    "from drawtree import draw_level_order\n",
    "\n",
    "class TreeNode:\n",
    "    def __init__(self,value=None,children=[]):\n",
    "        self.value = value\n",
    "        self.parent = None\n",
    "        self.children = [value]\n",
    "        \n",
    "    def addChild(self,value):\n",
    "        new = self.__class__(value)\n",
    "        new.parent = self\n",
    "        self.children.append(new)\n",
    "        \n",
    "    def setValue(self,value):\n",
    "        self.value = value\n",
    "        self.children.append(value)\n",
    "        \n",
    "    def getValue(self):\n",
    "        return self.value\n",
    "        \n",
    "    def setParent(self,parent):\n",
    "        self.parent = parent\n",
    "        \n",
    "    def getParent(self):\n",
    "        return self.parent\n",
    "        \n",
    "    def printChildren(self):\n",
    "        nums = []\n",
    "        for i in self.children:\n",
    "            if type(i) == int:\n",
    "                nums.append(i)\n",
    "            else:\n",
    "                nums.append(i.getValue())\n",
    "        draw_level_order(str(nums))\n",
    "\n",
    "class BinaryTree():\n",
    "    def __init__(self):\n",
    "        self.root = None\n",
    "        \n",
    "    def setRoot(self,root):\n",
    "        self.root = root\n",
    "\n",
    "    def printTree(self):\n",
    "        print(self.root)\n",
    "        print(root.children)"
   ]
  },
  {
   "cell_type": "code",
   "execution_count": 53,
   "metadata": {
    "scrolled": true
   },
   "outputs": [
    {
     "name": "stdout",
     "output_type": "stream",
     "text": [
      "      2\n",
      "     / \\\n",
      "    /   \\\n",
      "   /     \\\n",
      "  7       9\n",
      " / \\     / \\\n",
      "6  12   /   \\\n",
      "       15   20\n"
     ]
    }
   ],
   "source": [
    "t = BinaryTree()\n",
    "root = TreeNode(2)\n",
    "t.setRoot(root)\n",
    "root.addChild(7)\n",
    "root.addChild(9)\n",
    "root.addChild(6)\n",
    "root.addChild(12)\n",
    "root.addChild(15)\n",
    "root.addChild(20)\n",
    "root.printChildren()"
   ]
  },
  {
   "cell_type": "code",
   "execution_count": null,
   "metadata": {},
   "outputs": [],
   "source": []
  }
 ],
 "metadata": {
  "kernelspec": {
   "display_name": "Python 3",
   "language": "python",
   "name": "python3"
  },
  "language_info": {
   "codemirror_mode": {
    "name": "ipython",
    "version": 3
   },
   "file_extension": ".py",
   "mimetype": "text/x-python",
   "name": "python",
   "nbconvert_exporter": "python",
   "pygments_lexer": "ipython3",
   "version": "3.8.3"
  }
 },
 "nbformat": 4,
 "nbformat_minor": 4
}
