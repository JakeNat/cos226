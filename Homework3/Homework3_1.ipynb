{
 "cells": [
  {
   "cell_type": "markdown",
   "metadata": {},
   "source": [
    "1. Create a Stack class that implements all the methods of the book's ADT for stacks. In addition, implement a method that prints the stack in an easy-to-read form, too."
   ]
  },
  {
   "cell_type": "code",
   "execution_count": 26,
   "metadata": {},
   "outputs": [],
   "source": [
    "# Code influenced by Data Structures and Algorithms by Michael T. Goodrich\n",
    "\n",
    "class Empty(Exception):\n",
    "    pass\n",
    "\n",
    "class Stack:\n",
    "    def __init__(self):\n",
    "        self.data = []\n",
    "    \n",
    "    def push(self, toAdd):\n",
    "        self.data.append(toAdd)\n",
    "        \n",
    "    def is_empty(self):\n",
    "        return len(self.data) == 0\n",
    "        \n",
    "    def pop(self):\n",
    "        if self.is_empty():\n",
    "            raise Empty('Error')\n",
    "        return self.data.pop()\n",
    "    \n",
    "    def top(self):\n",
    "        if self.is_empty():\n",
    "            raise Empty('Error')\n",
    "        return self.data[-1]\n",
    "    \n",
    "    def __len__(self):\n",
    "        return len(self.data)\n",
    "    \n",
    "    def print_stack(self):\n",
    "        reverse = self.data[::-1]\n",
    "        for i in reverse:\n",
    "            print(\"| \", i, \" |\")\n",
    "        print(\"+-----+\")"
   ]
  },
  {
   "cell_type": "code",
   "execution_count": 33,
   "metadata": {},
   "outputs": [
    {
     "name": "stdout",
     "output_type": "stream",
     "text": [
      "|  7  |\n",
      "|  3  |\n",
      "+-----+\n",
      "Elements in stack:  2\n",
      "[3, 7]\n"
     ]
    }
   ],
   "source": [
    "s = Stack()\n",
    "\n",
    "s.push(3)\n",
    "s.push(7)\n",
    "s.print_stack()\n",
    "print(\"Elements in stack: \",s.__len__())"
   ]
  },
  {
   "cell_type": "code",
   "execution_count": 34,
   "metadata": {
    "scrolled": true
   },
   "outputs": [
    {
     "name": "stdout",
     "output_type": "stream",
     "text": [
      "|  4  |\n",
      "|  9  |\n",
      "|  7  |\n",
      "|  3  |\n",
      "+-----+\n",
      "None\n",
      "Stack is empty:  False\n",
      "Top element:  4\n"
     ]
    }
   ],
   "source": [
    "s.push(9)\n",
    "s.push(4)\n",
    "print(s.print_stack())\n",
    "print(\"Stack is empty: \",s.is_empty())\n",
    "print(\"Top element: \",s.top())\n"
   ]
  },
  {
   "cell_type": "code",
   "execution_count": 35,
   "metadata": {
    "scrolled": false
   },
   "outputs": [
    {
     "name": "stdout",
     "output_type": "stream",
     "text": [
      "+-----+\n",
      "Stack is empty:  True\n"
     ]
    }
   ],
   "source": [
    "s.pop()\n",
    "s.pop()\n",
    "s.pop()\n",
    "s.pop()\n",
    "s.print_stack()\n",
    "print(\"Stack is empty: \",s.is_empty())"
   ]
  }
 ],
 "metadata": {
  "kernelspec": {
   "display_name": "Python 3",
   "language": "python",
   "name": "python3"
  },
  "language_info": {
   "codemirror_mode": {
    "name": "ipython",
    "version": 3
   },
   "file_extension": ".py",
   "mimetype": "text/x-python",
   "name": "python",
   "nbconvert_exporter": "python",
   "pygments_lexer": "ipython3",
   "version": "3.8.3"
  }
 },
 "nbformat": 4,
 "nbformat_minor": 4
}
