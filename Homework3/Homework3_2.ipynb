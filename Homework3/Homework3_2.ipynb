{
 "cells": [
  {
   "cell_type": "markdown",
   "metadata": {},
   "source": [
    "2. Implement a queue as a fixed-length circular array."
   ]
  },
  {
   "cell_type": "code",
   "execution_count": 1,
   "metadata": {},
   "outputs": [],
   "source": [
    "# Code influenced by Data Structures and Algorithms by Michael T. Goodrich\n",
    "\n",
    "class Queue:\n",
    "    \n",
    "    CAPACITY = 10\n",
    "    \n",
    "    def __init__(self):\n",
    "        self.data = [None] * Queue.CAPACITY\n",
    "        self.size = 0\n",
    "        self.front = 0\n",
    "        \n",
    "    def __len__(self):\n",
    "        return self.size\n",
    "    \n",
    "    def is_empty(self):\n",
    "        return self.size == 0\n",
    "    \n",
    "    def first(self):\n",
    "        if self.is_empty():\n",
    "            raise Empty('Error')\n",
    "        return self.data[self.front]\n",
    "    \n",
    "    def dequeue(self):\n",
    "        if self.is_empty():\n",
    "            raise Empty('Error')\n",
    "        temp = self.data[self.front]\n",
    "        self.data[self.front] = None\n",
    "        self.front = (self.front + 1) % len(self.data)\n",
    "        self.size -= 1\n",
    "        return temp\n",
    "    \n",
    "    def enqueue(self, toAdd):\n",
    "        empty = (self.front + self.size) % len(self.data)\n",
    "        self.data[empty] = toAdd\n",
    "        self.size += 1\n",
    "        \n",
    "    def print_out(self):\n",
    "        print(*self.data, sep = \", \")"
   ]
  },
  {
   "cell_type": "code",
   "execution_count": 2,
   "metadata": {},
   "outputs": [
    {
     "name": "stdout",
     "output_type": "stream",
     "text": [
      "None, None, None, None, None, None, None, None, None, None\n",
      "Queue is empty:  True\n"
     ]
    }
   ],
   "source": [
    "q = Queue()\n",
    "q.print_out()\n",
    "print(\"Queue is empty: \",q.is_empty())"
   ]
  },
  {
   "cell_type": "code",
   "execution_count": 3,
   "metadata": {},
   "outputs": [
    {
     "name": "stdout",
     "output_type": "stream",
     "text": [
      "0, 1, 2, 3, 4, 5, 6, None, None, None\n",
      "Elements in queue:  7\n",
      "First element:  0\n"
     ]
    }
   ],
   "source": [
    "for i in range(7):\n",
    "    q.enqueue(i)\n",
    "q.print_out()\n",
    "print(\"Elements in queue: \",q.__len__())\n",
    "print(\"First element: \",q.first())"
   ]
  },
  {
   "cell_type": "code",
   "execution_count": 4,
   "metadata": {},
   "outputs": [
    {
     "name": "stdout",
     "output_type": "stream",
     "text": [
      "None, None, None, 3, 4, 5, 6, None, None, None\n",
      "First element:  3\n"
     ]
    }
   ],
   "source": [
    "q.dequeue()\n",
    "q.dequeue()\n",
    "q.dequeue()\n",
    "q.print_out()\n",
    "print(\"First element: \",q.first())"
   ]
  },
  {
   "cell_type": "code",
   "execution_count": 5,
   "metadata": {},
   "outputs": [
    {
     "name": "stdout",
     "output_type": "stream",
     "text": [
      "None, None, None, None, None, None, None, None, None, None\n",
      "Queue is empty:  True\n"
     ]
    }
   ],
   "source": [
    "for i in range(4):\n",
    "    q.dequeue()\n",
    "q.print_out()\n",
    "print(\"Queue is empty: \",q.is_empty())"
   ]
  }
 ],
 "metadata": {
  "kernelspec": {
   "display_name": "Python 3",
   "language": "python",
   "name": "python3"
  },
  "language_info": {
   "codemirror_mode": {
    "name": "ipython",
    "version": 3
   },
   "file_extension": ".py",
   "mimetype": "text/x-python",
   "name": "python",
   "nbconvert_exporter": "python",
   "pygments_lexer": "ipython3",
   "version": "3.8.3"
  }
 },
 "nbformat": 4,
 "nbformat_minor": 4
}
