{
 "cells": [
  {
   "cell_type": "markdown",
   "metadata": {},
   "source": [
    "This notebook contains the DiGraphAdjList class and its methods - separate from GraphAdjList as to not overwhelm the grader with testing."
   ]
  },
  {
   "cell_type": "code",
   "execution_count": 1,
   "metadata": {},
   "outputs": [],
   "source": [
    "class Vertex:\n",
    "    def __init__(self,value=None):\n",
    "        self.value = value\n",
    "        self.adjacent = list()\n",
    "    \n",
    "    # Return tuple of origin/vertex of an edge\n",
    "    def endpoints(self):\n",
    "        verts = (self.u.value,self.v.value)\n",
    "        return verts\n",
    "    \n",
    "    # Return opposite endpoint of a particular edge\n",
    "    def opposite(self,x):\n",
    "        return self.v.value if x is self.u.value else self.u.value\n",
    "\n",
    "class Edge:\n",
    "    def __init__(self,u,v,value=None):\n",
    "        self.u = u\n",
    "        self.v = v\n",
    "        self.value = value\n",
    "    \n",
    "    # Return tuple of origin/vertex of an edge\n",
    "    def endpoints(self):\n",
    "        verts = (self.u.value,self.v.value)\n",
    "        return verts\n",
    "    \n",
    "    # Return opposite endpoint of a particular edge\n",
    "    def opposite(self,x):\n",
    "        return self.v.value if x is self.u.value else self.u.value\n",
    "        \n",
    "class Graph:\n",
    "    # Return number of vertices in the graph\n",
    "    def vertex_count(self):\n",
    "        print(\"Calling dummy method\")\n",
    "    \n",
    "    # Return all vertices in graph\n",
    "    def vertices(self):\n",
    "        print(\"Calling dummy method\")\n",
    "        \n",
    "    # Return the number of edges in the graph\n",
    "    def edge_count(self):\n",
    "        print(\"Calling dummy method\")\n",
    "        \n",
    "    # Return all edges in graph\n",
    "    def edges(self):\n",
    "        print(\"Calling dummy method\")\n",
    "        \n",
    "    # Return the edge from vertex u to vertex v\n",
    "    def get_edge(self,u,v):\n",
    "        print(\"Calling dummy method\")\n",
    "        \n",
    "    # Return the number of edges incident to vertex v\n",
    "    def degree(self,v,out=True):\n",
    "        print(\"Calling dummy method\")\n",
    "    \n",
    "    # Return an iteration of all edges incident to vertex v\n",
    "    def incident_edges(v,out=True):\n",
    "        print(\"Calling dummy method\")\n",
    "        \n",
    "    # Create and return a new Vertex storing element x\n",
    "    def insert_vertex(self,x=None):\n",
    "        print(\"Calling dummy method\")\n",
    "        \n",
    "    # Create and return a new Edge from vertex u to vertex v, storing element x\n",
    "    def insert_edge(self,u,v,x=None):\n",
    "        print(\"Calling dummy method\")\n",
    "        \n",
    "    # Remove vertex v and all its incident edges from the graph\n",
    "    def remove_vertex(self,v):\n",
    "        print(\"Calling dummy method\")\n",
    "        \n",
    "    # Remove edge e from the graph\n",
    "    def remove_edge(self,e):\n",
    "        print(\"Calling dummy method\")\n",
    "        \n",
    "class GraphAdjList(Graph):\n",
    "    def __init__(self):\n",
    "        self._verts = list()\n",
    "        self.count = 0\n",
    "            \n",
    "    # Return True if u = v, where both are Vertex instances or values\n",
    "    def same_vertex(self,u,v):\n",
    "        # If vertexes are the same\n",
    "        if u == v:\n",
    "            return True\n",
    "        # If u or v are NOT Vertex instance\n",
    "        elif not isinstance(u,Vertex) or not isinstance(v,Vertex):\n",
    "            return False\n",
    "        elif u.value == v.value:\n",
    "            return True\n",
    "        else:\n",
    "            return False\n",
    "        \n",
    "    # Return all vertices in graph\n",
    "    def vertices(self):\n",
    "        verts = list()\n",
    "        for vert in self._verts:\n",
    "            if vert not in verts:\n",
    "                verts.append(vert)\n",
    "        return verts if verts else None\n",
    "    \n",
    "    # Return the number of vertices in the graph\n",
    "    def vertex_count(self):\n",
    "        verts = list()\n",
    "        for vert in self._verts:\n",
    "            if vert not in verts:\n",
    "                verts.append(vert)\n",
    "        return len(verts)\n",
    "    \n",
    "    # Create and return a new Vertex storing element x\n",
    "    def insert_vertex(self,x):\n",
    "        # Find vertex if it exists\n",
    "        vert = self.get_vertex(x)\n",
    "        \n",
    "        # If a vertex doesn't exist, create it\n",
    "        vert = Vertex(value=x) if vert is None else vert\n",
    "\n",
    "        self._verts.append(vert)\n",
    "        return vert\n",
    "    \n",
    "    # Return vertex with value to_find\n",
    "    def get_vertex(self,to_find):\n",
    "        for vert in self._verts:\n",
    "            if self.same_vertex(to_find,vert.value):\n",
    "                return vert\n",
    "        else:\n",
    "            return None\n",
    "    \n",
    "    # Return all edges in graph\n",
    "    def edges(self):\n",
    "        edges = []\n",
    "        for vert in self._verts:\n",
    "            # For each edge in a vertex's adjacency list\n",
    "            for e in vert.adjacent:\n",
    "                # Append Edge's u,v values\n",
    "                temp = (e.u.value,e.v.value)\n",
    "                edges.append(temp)\n",
    "        return edges\n",
    "                \n",
    "    # Return the number of edges in the graph\n",
    "    def edge_count(self):\n",
    "        return self.count\n",
    "    \n",
    "    # Return the edge from vertex u to vertex v\n",
    "    def get_edge(self,u,v):\n",
    "        # Look for first vertex (u)\n",
    "        for vert in self._verts:\n",
    "            # Iterate and compare to u\n",
    "            if self.same_vertex(vert.value,u):\n",
    "                # Check for v in u's adjacency list\n",
    "                for adj in vert.adjacent:\n",
    "                    # If found an edge with v as it's v value\n",
    "                    if self.same_vertex(adj.v.value,v):\n",
    "                        return adj\n",
    "            # No vertex found\n",
    "            else:\n",
    "                return None\n",
    "            \n",
    "    # Return an iteration of all edges incident to vertex x\n",
    "    def incident_edges(self,x):\n",
    "        edges = []\n",
    "        # Find x in vertex list\n",
    "        for vert in self._verts:\n",
    "            if vert.value == x:\n",
    "                # Return each edge\n",
    "                for i in vert.adjacent:\n",
    "                    # Grab Edge's u and v value\n",
    "                    temp = (i.u.value,i.v.value)\n",
    "                    edges.append(temp)\n",
    "            # Grabs Edges containing x\n",
    "            for e in vert.adjacent:\n",
    "                if e.v.value == x:\n",
    "                    temp = (e.u.value,e.v.value)\n",
    "                    edges.append(temp)\n",
    "        return edges\n",
    "    \n",
    "    # Return the number of edges incident to vertex x\n",
    "    def degree(self,x):\n",
    "        edges = []\n",
    "        # Find x in vertex list\n",
    "        for vert in self._verts:\n",
    "            if vert.value == x:\n",
    "                # Return each edge\n",
    "                for i in vert.adjacent:\n",
    "                    # Grab Edge's u and v value\n",
    "                    temp = (i.u.value,i.v.value)\n",
    "                    edges.append(temp)\n",
    "            # Grabs Edges containing x\n",
    "            for e in vert.adjacent:\n",
    "                if e.v.value == x:\n",
    "                    temp = (e.u.value,e.v.value)\n",
    "                    edges.append(temp)\n",
    "        return edges\n",
    "    \n",
    "    # Create and return a new Edge from vertex u to vertex v\n",
    "    def insert_edge(self,u,v,value=None):\n",
    "        # Find vertices if it exists\n",
    "        u_vert = self.get_vertex(u)\n",
    "        v_vert = self.get_vertex(v)\n",
    "        \n",
    "        # If vertex doesn't exist, create and append to vertex list\n",
    "        if u_vert is None:\n",
    "            u_vert = Vertex(value=u)\n",
    "            self._verts.append(u_vert)\n",
    "        if v_vert is None:\n",
    "            v_vert = Vertex(value=v)\n",
    "            self._verts.append(v_vert) \n",
    "        \n",
    "        # Add Edge to vertex's adjacency list\n",
    "        if u_vert and u == v:\n",
    "            edge = Edge(u_vert,v_vert)\n",
    "            u_vert.adjacent.append(edge)\n",
    "            self.count += 1\n",
    "        else:\n",
    "            if u_vert:\n",
    "                edge = Edge(u_vert,v_vert)\n",
    "                u_vert.adjacent.append(edge)\n",
    "            if v_vert:\n",
    "                edge = Edge(v_vert,u_vert)\n",
    "                v_vert.adjacent.append(edge)\n",
    "            self.count += 2\n",
    "        \n",
    "        return (u,v)\n",
    "    \n",
    "    # Remove an edge\n",
    "    def remove_edge(self,u,v):\n",
    "        # Find matching vertex\n",
    "        for vert in self._verts:\n",
    "            if vert.value == u:\n",
    "                for i in vert.adjacent:\n",
    "                    if i.v.value == v:\n",
    "                        vert.adjacent.remove(i)\n",
    "            if vert.value == v:\n",
    "                for i in vert.adjacent:\n",
    "                    if i.v.value == u:\n",
    "                        vert.adjacent.remove(i)\n",
    "    \n",
    "    # Remove a vertex x and its incident edges\n",
    "    def remove_vertex(self,x):\n",
    "        for pos in range(len(self._verts)-1):\n",
    "            vert = self._verts[pos]\n",
    "            if vert.value == x:\n",
    "                vert.adjacent.clear()\n",
    "                self._verts = self._verts[0:pos] + self._verts[pos+1:]\n",
    "        # Find all existing edges containing vertex x\n",
    "        for vert in self._verts:\n",
    "            for i in vert.adjacent:\n",
    "                if i.u.value == x or i.v.value == x:\n",
    "                    vert.adjacent.remove(i)\n",
    "                    \n",
    "class DiGraphAdjList(GraphAdjList):\n",
    "    def __init__(self):\n",
    "        super().__init__()\n",
    "        \n",
    "    # Create and return a new Edge from vertex u to vertex v\n",
    "    def insert_edge(self,u,v,value=None):\n",
    "        # Find vertices if it exists\n",
    "        u_vert = self.get_vertex(u)\n",
    "        v_vert = self.get_vertex(v)\n",
    "        \n",
    "        # If vertex doesn't exist, create and append to vertex list\n",
    "        if u_vert is None:\n",
    "            u_vert = Vertex(value=u)\n",
    "            self._verts.append(u_vert)\n",
    "        if v_vert is None:\n",
    "            v_vert = Vertex(value=v)\n",
    "            self._verts.append(v_vert) \n",
    "        \n",
    "        # Add Edge to vertex's adjacency list\n",
    "        if u_vert and u == v:\n",
    "            edge = Edge(u_vert,v_vert)\n",
    "            u_vert.adjacent.append(edge)\n",
    "            self.count += 1\n",
    "        else:\n",
    "            if u_vert and v_vert:\n",
    "                edge = Edge(u_vert,v_vert)\n",
    "                u_vert.adjacent.append(edge)\n",
    "            self.count += 1\n",
    "        \n",
    "        return edge\n",
    "    \n",
    "    # Return an iteration of all edges incident to vertex x\n",
    "    def incident_edges(self,x):\n",
    "        edges = []\n",
    "        # Find x in vertex list\n",
    "        for vert in self._verts:\n",
    "            if vert.value == x:\n",
    "                # Return each edge\n",
    "                for i in vert.adjacent:\n",
    "                    # Grab Edge's u and v value\n",
    "                    temp = (i.u.value,i.v.value)\n",
    "                    edges.append(temp)\n",
    "        return edges\n",
    "    \n",
    "    # Return the number of edges incident to vertex x\n",
    "    def degree(self,x):\n",
    "        edges = []\n",
    "        # Find x in vertex list\n",
    "        for vert in self._verts:\n",
    "            if vert.value == x:\n",
    "                # Return each edge\n",
    "                for i in vert.adjacent:\n",
    "                    # Grab Edge's u and v value\n",
    "                    temp = (i.u.value,i.v.value)\n",
    "                    edges.append(temp)\n",
    "        return len(edges)\n",
    "    \n",
    "    # Remove a vertex x and its incident edges\n",
    "    def remove_vertex(self,x):\n",
    "        temp_count = 0\n",
    "        for pos in range(len(self._verts)-1):\n",
    "            vert = self._verts[pos]\n",
    "            if vert.value == x:\n",
    "                temp_count += len(vert.adjacent)\n",
    "                vert.adjacent.clear()\n",
    "                self._verts = self._verts[0:pos] + self._verts[pos+1:]\n",
    "        self.count -= temp_count\n",
    "                \n",
    "    # Remove an edge\n",
    "    def remove_edge(self,u,v):\n",
    "        # Find matching vertex\n",
    "        for vert in self._verts:\n",
    "            if vert.value == u:\n",
    "                for i in vert.adjacent:\n",
    "                    if i.v.value == v:\n",
    "                        vert.adjacent.remove(i)\n",
    "        self.count -= 1"
   ]
  },
  {
   "cell_type": "markdown",
   "metadata": {},
   "source": [
    "Here, I only demo the methods that have been overridden. The others work the same as in the parent class."
   ]
  },
  {
   "cell_type": "code",
   "execution_count": 2,
   "metadata": {},
   "outputs": [],
   "source": [
    "# Instantiate graph\n",
    "graph = DiGraphAdjList()"
   ]
  },
  {
   "cell_type": "code",
   "execution_count": 3,
   "metadata": {},
   "outputs": [
    {
     "data": {
      "text/plain": [
       "<__main__.Edge at 0x1e99ed73a60>"
      ]
     },
     "execution_count": 3,
     "metadata": {},
     "output_type": "execute_result"
    }
   ],
   "source": [
    "# insert_edge(u,v) - Create and return a new Edge from vertex u to vertex v\n",
    "graph.insert_edge(1,2)\n",
    "graph.insert_edge(1,3)\n",
    "graph.insert_edge(2,1)\n",
    "graph.insert_edge(4,4)"
   ]
  },
  {
   "cell_type": "code",
   "execution_count": 4,
   "metadata": {},
   "outputs": [
    {
     "data": {
      "text/plain": [
       "[(1, 2), (1, 3), (2, 1), (4, 4)]"
      ]
     },
     "execution_count": 4,
     "metadata": {},
     "output_type": "execute_result"
    }
   ],
   "source": [
    "# Showing edges for convenience\n",
    "graph.edges()"
   ]
  },
  {
   "cell_type": "code",
   "execution_count": 5,
   "metadata": {},
   "outputs": [
    {
     "data": {
      "text/plain": [
       "[(1, 2), (1, 3)]"
      ]
     },
     "execution_count": 5,
     "metadata": {},
     "output_type": "execute_result"
    }
   ],
   "source": [
    "# incident_edges() - Return an iteration of all edges incident to vertex x\n",
    "# Directed, so only shows outgoing edges\n",
    "graph.incident_edges(1)"
   ]
  },
  {
   "cell_type": "code",
   "execution_count": 6,
   "metadata": {},
   "outputs": [
    {
     "data": {
      "text/plain": [
       "2"
      ]
     },
     "execution_count": 6,
     "metadata": {},
     "output_type": "execute_result"
    }
   ],
   "source": [
    "# degree() - Return the number of edges incident to vertex x\n",
    "graph.degree(1)"
   ]
  },
  {
   "cell_type": "code",
   "execution_count": 7,
   "metadata": {},
   "outputs": [
    {
     "data": {
      "text/plain": [
       "[(1, 2), (1, 3), (2, 1), (4, 4)]"
      ]
     },
     "execution_count": 7,
     "metadata": {},
     "output_type": "execute_result"
    }
   ],
   "source": [
    "# Edges before call to remove_vertex(1)\n",
    "graph.edges()"
   ]
  },
  {
   "cell_type": "code",
   "execution_count": 8,
   "metadata": {},
   "outputs": [],
   "source": [
    "# remove_vertex(x) - Remove a vertex x and its incident edges\n",
    "graph.remove_vertex(1)"
   ]
  },
  {
   "cell_type": "code",
   "execution_count": 9,
   "metadata": {},
   "outputs": [
    {
     "data": {
      "text/plain": [
       "[(2, 1), (4, 4)]"
      ]
     },
     "execution_count": 9,
     "metadata": {},
     "output_type": "execute_result"
    }
   ],
   "source": [
    "# Edges after call to remove_vertex(1)\n",
    "graph.edges()"
   ]
  },
  {
   "cell_type": "code",
   "execution_count": 10,
   "metadata": {},
   "outputs": [],
   "source": [
    "# remove_edge(u,v) - Remove an edge\n",
    "graph.remove_edge(4,4)"
   ]
  },
  {
   "cell_type": "code",
   "execution_count": 11,
   "metadata": {},
   "outputs": [
    {
     "data": {
      "text/plain": [
       "[(2, 1)]"
      ]
     },
     "execution_count": 11,
     "metadata": {},
     "output_type": "execute_result"
    }
   ],
   "source": [
    "# Edges after call to remove_edge(4,4)\n",
    "graph.edges()"
   ]
  }
 ],
 "metadata": {
  "kernelspec": {
   "display_name": "Python 3",
   "language": "python",
   "name": "python3"
  },
  "language_info": {
   "codemirror_mode": {
    "name": "ipython",
    "version": 3
   },
   "file_extension": ".py",
   "mimetype": "text/x-python",
   "name": "python",
   "nbconvert_exporter": "python",
   "pygments_lexer": "ipython3",
   "version": "3.8.3"
  }
 },
 "nbformat": 4,
 "nbformat_minor": 4
}
