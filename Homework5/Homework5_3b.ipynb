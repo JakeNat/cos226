{
 "cells": [
  {
   "cell_type": "markdown",
   "metadata": {},
   "source": [
    "This notebook contains the DiGraphEdge class and its methods - separate from GraphEdge as to not overwhelm the grader with testing."
   ]
  },
  {
   "cell_type": "code",
   "execution_count": 85,
   "metadata": {},
   "outputs": [],
   "source": [
    "class Vertex:\n",
    "    def __init__(self,value=None):\n",
    "        self.value = value\n",
    "        \n",
    "class Edge:\n",
    "    def __init__(self,u,v,value=None):\n",
    "        self.u = u\n",
    "        self.v = v\n",
    "        self.value = value\n",
    "    \n",
    "    # Return tuple of origin/vertex of an edge\n",
    "    def endpoints(self):\n",
    "        verts = (self.u.value,self.v.value)\n",
    "        return verts\n",
    "    \n",
    "    # Return opposite endpoint of a particular edge\n",
    "    def opposite(self,x):\n",
    "        return self.v.value if x is self.u.value else self.u.value\n",
    "        \n",
    "class Graph:\n",
    "    # Return number of vertices in the graph\n",
    "    def vertex_count(self):\n",
    "        print(\"Calling dummy method\")\n",
    "    \n",
    "    # Return all vertices in graph\n",
    "    def vertices(self):\n",
    "        print(\"Calling dummy method\")\n",
    "        \n",
    "    # Return the number of edges in the graph\n",
    "    def edge_count(self):\n",
    "        print(\"Calling dummy method\")\n",
    "        \n",
    "    # Return all edges in graph\n",
    "    def edges(self):\n",
    "        print(\"Calling dummy method\")\n",
    "        \n",
    "    # Return the edge from vertex u to vertex v\n",
    "    def get_edge(self,u,v):\n",
    "        print(\"Calling dummy method\")\n",
    "        \n",
    "    # Return the number of edges incident to vertex v\n",
    "    def degree(self,v,out=True):\n",
    "        print(\"Calling dummy method\")\n",
    "    \n",
    "    # Return an iteration of all edges incident to vertex v\n",
    "    def incident_edges(v,out=True):\n",
    "        print(\"Calling dummy method\")\n",
    "        \n",
    "    # Create and return a new Vertex storing element x\n",
    "    def insert_vertex(self,x=None):\n",
    "        print(\"Calling dummy method\")\n",
    "        \n",
    "    # Create and return a new Edge from vertex u to vertex v, storing element x\n",
    "    def insert_edge(self,u,v,x=None):\n",
    "        print(\"Calling dummy method\")\n",
    "        \n",
    "    # Remove vertex v and all its incident edges from the graph\n",
    "    def remove_vertex(self,v):\n",
    "        print(\"Calling dummy method\")\n",
    "        \n",
    "    # Remove edge e from the graph\n",
    "    def remove_edge(self,e):\n",
    "        print(\"Calling dummy method\")\n",
    "        \n",
    "class GraphEdge(Graph):\n",
    "    def __init__(self):\n",
    "        self._edges = list()\n",
    "        \n",
    "    # Return all edges in graph\n",
    "    def edges(self):\n",
    "        return self._edges.copy()\n",
    "    \n",
    "    # Return the edge from vertex u to vertex v\n",
    "    def get_edge(self,u,v):\n",
    "        for edge in self._edges:\n",
    "            if (self.same_vertex(u,edge.u.value) and self.same_vertex(v,edge.v.value)) or (\n",
    "                self.same_vertex(v,edge.u.value) and self.same_vertex(u,edge.v.value)\n",
    "            ):\n",
    "                return edge\n",
    "            \n",
    "    # Return True if u = v, where both are Vertex instances or values\n",
    "    def same_vertex(self,u,v):\n",
    "        # If vertexes are the same\n",
    "        if u == v:\n",
    "            return True\n",
    "        # If u or v are NOT Vertex instance\n",
    "        elif not isinstance(u,Vertex) or not isinstance(v,Vertex):\n",
    "            return False\n",
    "        elif u.value == v.value:\n",
    "            return True\n",
    "        else:\n",
    "            return False\n",
    "        \n",
    "    # Return all vertices in graph\n",
    "    def vertices(self):\n",
    "        verts = list()\n",
    "        for edge in self._edges:\n",
    "            if edge.u not in verts:\n",
    "                verts.append(edge.u)\n",
    "            if edge.v not in verts:\n",
    "                verts.append(edge.v)\n",
    "        return verts if verts else None\n",
    "    \n",
    "    # Return vertex with value toFind\n",
    "    def get_vertex(self,toFind):\n",
    "        for edge in self._edges:\n",
    "            if self.same_vertex(toFind,edge.u.value):\n",
    "                return edge.u\n",
    "            if self.same_vertex(toFind,edge.v.value):\n",
    "                return edge.v\n",
    "    \n",
    "    # Create and return a new Edge from vertex u to vertex v\n",
    "    def insert_edge(self,u,v,value=None):\n",
    "        # Find vertices if it exists\n",
    "        (u_vert,v_vert) = (self.get_vertex(u),self.get_vertex(v))\n",
    "        \n",
    "        # If a vertex doesn't exist, create it\n",
    "        u_vert = Vertex(value=u) if u_vert is None else u_vert\n",
    "        v_vert = Vertex(value=v) if v_vert is None else v_vert\n",
    "        \n",
    "        edge = Edge(u_vert,v_vert,value)\n",
    "        self._edges.append(edge)\n",
    "        return edge\n",
    "    \n",
    "    # Return an iteration of all edges incident to vertex v\n",
    "    def incident_edges(self, v):\n",
    "        edges = []\n",
    "        for edge in self._edges:\n",
    "            if self.same_vertex(v,edge.u.value) or self.same_vertex(v,edge.v.value):\n",
    "                edges.append(edge)\n",
    "        return edges if edges else None\n",
    "    \n",
    "    # Remove an edge\n",
    "    def remove_edge(self,u,v):\n",
    "        for pos in range(len(self._edges)):\n",
    "            edge = self._edges[pos]\n",
    "            if (self.same_vertex(u,edge.u.value) and self.same_vertex(v,edge.v.value)) or (\n",
    "                self.same_vertex(v,edge.u.value) and self.same_vertex(u,edge.v.value)):\n",
    "                self._edges = self._edges[0:pos] + self._edges[pos+1:]\n",
    "                break\n",
    "                \n",
    "    # Remove a vertex and its incident edges\n",
    "    def remove_vertex(self,v):\n",
    "        for pos in range(len(self._edges)):\n",
    "            edge = self._edges[pos]\n",
    "            if (self.same_vertex(v,edge.u.value) or self.same_vertex(v,edge.v.value)):\n",
    "                self._edges = self._edges[0:pos] + self._edges[pos+1:]\n",
    "                break\n",
    "    \n",
    "    # Return the number of vertices in the graph\n",
    "    def vertex_count(self):\n",
    "        verts = list()\n",
    "        for edge in self._edges:\n",
    "            if edge.u not in verts:\n",
    "                verts.append(edge.u)\n",
    "            if edge.v not in verts:\n",
    "                verts.append(edge.v)\n",
    "        return len(verts)\n",
    "    \n",
    "    # Return the number of edges in the graph\n",
    "    def edge_count(self):\n",
    "        return len(self._edges)\n",
    "    \n",
    "    # Return the number of edges incident to vertex v\n",
    "    def degree(self,v):\n",
    "        edges = []\n",
    "        for edge in self._edges:\n",
    "            if self.same_vertex(v,edge.u.value) or self.same_vertex(v,edge.v.value):\n",
    "                edges.append(edge)\n",
    "        return len(edges)\n",
    "    \n",
    "    # Create and return a new Vertex storing element x\n",
    "    def insert_vertex(self,x):\n",
    "        # Find vertex if it exists\n",
    "        vert = self.get_vertex(x)\n",
    "        \n",
    "        # If a vertex doesn't exist, create it\n",
    "        vert = Vertex(value=x)\n",
    "        \n",
    "        # Wasn't sure WHERE to insert, as I didn't use a vertices\n",
    "        # list in this class, so creates a self-loop\n",
    "        edge = Edge(vert,vert)\n",
    "        self._edges.append(edge)\n",
    "        return edge\n",
    "    \n",
    "class DiGraphEdge(GraphEdge):\n",
    "    def __init__(self):\n",
    "        super().__init__()\n",
    "    \n",
    "    # Return the edge from vertex u to vertex v\n",
    "    def get_edge(self,u,v):\n",
    "        for edge in self._edges:\n",
    "            if (self.same_vertex(u,edge.u.value) and self.same_vertex(v,edge.v.value)):\n",
    "                return edge\n",
    "        else:\n",
    "            return None\n",
    "    \n",
    "    # Return an iteration of all edges incident to vertex x\n",
    "    def incident_edges(self,x):\n",
    "        edges = []\n",
    "        for edge in self._edges:\n",
    "            # If an outgoing edge is found\n",
    "            if self.same_vertex(x,edge.u.value):\n",
    "                edges.append(edge)\n",
    "        return edges if edges else None\n",
    "    \n",
    "    # Create and return a new Edge from vertex u to vertex v\n",
    "    def insert_edge(self,u,v,value=None):\n",
    "        # Find vertices if it exists\n",
    "        (u_vert,v_vert) = (self.get_vertex(u),self.get_vertex(v))\n",
    "        \n",
    "        # If a vertex doesn't exist, create it\n",
    "        u_vert = Vertex(value=u) if u_vert is None else u_vert\n",
    "        v_vert = Vertex(value=v) if v_vert is None else v_vert\n",
    "        \n",
    "        edge = Edge(u_vert,v_vert,value)\n",
    "        self._edges.append(edge)\n",
    "        return edge\n",
    "    \n",
    "    # Return the number of edges incident to vertex x\n",
    "    def degree(self,x):\n",
    "        edges = []\n",
    "        for edge in self._edges:\n",
    "            # Find outgoing edges of vertex\n",
    "            if self.same_vertex(x,edge.u.value):\n",
    "                edges.append(edge)\n",
    "        return len(edges)\n",
    "    \n",
    "    # Remove a vertex and its incident edges\n",
    "    def remove_vertex(self,x):\n",
    "        for pos in range(len(self._edges)):\n",
    "            edge = self._edges[pos]\n",
    "            # Removes vertex's outgoing edges\n",
    "            if (self.same_vertex(x,edge.u.value)):\n",
    "                self._edges = self._edges[0:pos] + self._edges[pos+1:]\n",
    "                break\n",
    "                \n",
    "    # Remove an edge\n",
    "    def remove_edge(self,u,v):\n",
    "        for pos in range(len(self._edges)):\n",
    "            edge = self._edges[pos]\n",
    "            # Only if it's an outgoing edge\n",
    "            if (self.same_vertex(u,edge.u.value) and self.same_vertex(v,edge.v.value)):\n",
    "                self._edges = self._edges[0:pos] + self._edges[pos+1:]\n",
    "                break"
   ]
  },
  {
   "cell_type": "markdown",
   "metadata": {},
   "source": [
    "Here, I only demo the methods that have been overridden. The others work the same as in the parent class."
   ]
  },
  {
   "cell_type": "code",
   "execution_count": 86,
   "metadata": {},
   "outputs": [],
   "source": [
    "# Instantiate graph\n",
    "graph = DiGraphEdge()"
   ]
  },
  {
   "cell_type": "code",
   "execution_count": 87,
   "metadata": {},
   "outputs": [
    {
     "data": {
      "text/plain": [
       "<__main__.Edge at 0x1eb6c2aba00>"
      ]
     },
     "execution_count": 87,
     "metadata": {},
     "output_type": "execute_result"
    }
   ],
   "source": [
    "# insert_edge() - Create and return a new Edge from vertex u to vertex v\n",
    "graph.insert_edge(1,2)\n",
    "graph.insert_edge(2,1)\n",
    "graph.insert_edge(2,3)\n",
    "graph.insert_edge(4,5)"
   ]
  },
  {
   "cell_type": "code",
   "execution_count": 88,
   "metadata": {},
   "outputs": [
    {
     "data": {
      "text/plain": [
       "<__main__.Edge at 0x1eb6c2ab8e0>"
      ]
     },
     "execution_count": 88,
     "metadata": {},
     "output_type": "execute_result"
    }
   ],
   "source": [
    "# get_edge(u,v) - Return the edge from vertex u to vertex v\n",
    "graph.get_edge(2,3)"
   ]
  },
  {
   "cell_type": "code",
   "execution_count": 89,
   "metadata": {},
   "outputs": [
    {
     "name": "stdout",
     "output_type": "stream",
     "text": [
      "1 2\n",
      "2 1\n",
      "2 3\n",
      "4 5\n"
     ]
    },
    {
     "data": {
      "text/plain": [
       "[<__main__.Edge at 0x1eb6c2ab5e0>,\n",
       " <__main__.Edge at 0x1eb6c2ab820>,\n",
       " <__main__.Edge at 0x1eb6c2ab8e0>,\n",
       " <__main__.Edge at 0x1eb6c2aba00>]"
      ]
     },
     "execution_count": 89,
     "metadata": {},
     "output_type": "execute_result"
    }
   ],
   "source": [
    "# Notice how get_edge(2,3) returns the correct Edge\n",
    "for i in graph._edges:\n",
    "    print(i.u.value,i.v.value)\n",
    "graph.edges()"
   ]
  },
  {
   "cell_type": "code",
   "execution_count": 90,
   "metadata": {},
   "outputs": [],
   "source": [
    "# Since this graph is directed, this will return nothing\n",
    "graph.get_edge(3,2)"
   ]
  },
  {
   "cell_type": "code",
   "execution_count": 92,
   "metadata": {},
   "outputs": [
    {
     "data": {
      "text/plain": [
       "[<__main__.Edge at 0x1eb6c2ab820>, <__main__.Edge at 0x1eb6c2ab8e0>]"
      ]
     },
     "execution_count": 92,
     "metadata": {},
     "output_type": "execute_result"
    }
   ],
   "source": [
    "# incident_edges(x) - Return an iteration of all edges incident to vertex x\n",
    "# Will return 2 Edges, since it only counts outgoing edges\n",
    "graph.incident_edges(2)"
   ]
  },
  {
   "cell_type": "code",
   "execution_count": 93,
   "metadata": {},
   "outputs": [
    {
     "data": {
      "text/plain": [
       "2"
      ]
     },
     "execution_count": 93,
     "metadata": {},
     "output_type": "execute_result"
    }
   ],
   "source": [
    "# degree(x) - Return the number of edges incident to vertex x\n",
    "# Also only counts outgoing edges\n",
    "graph.degree(2)"
   ]
  },
  {
   "cell_type": "code",
   "execution_count": 94,
   "metadata": {},
   "outputs": [],
   "source": [
    "# remove_vertex(x) - Remove a vertex and its incident edges\n",
    "# Only removes outgoing edges\n",
    "graph.remove_vertex(1)"
   ]
  },
  {
   "cell_type": "code",
   "execution_count": 95,
   "metadata": {},
   "outputs": [
    {
     "name": "stdout",
     "output_type": "stream",
     "text": [
      "2 1\n",
      "2 3\n",
      "4 5\n"
     ]
    },
    {
     "data": {
      "text/plain": [
       "[<__main__.Edge at 0x1eb6c2ab820>,\n",
       " <__main__.Edge at 0x1eb6c2ab8e0>,\n",
       " <__main__.Edge at 0x1eb6c2aba00>]"
      ]
     },
     "execution_count": 95,
     "metadata": {},
     "output_type": "execute_result"
    }
   ],
   "source": [
    "# Notice how Edge(2,1) was NOT removed\n",
    "for i in graph._edges:\n",
    "    print(i.u.value,i.v.value)\n",
    "graph.edges()"
   ]
  },
  {
   "cell_type": "code",
   "execution_count": 97,
   "metadata": {},
   "outputs": [
    {
     "name": "stdout",
     "output_type": "stream",
     "text": [
      "2 1\n",
      "4 5\n"
     ]
    },
    {
     "data": {
      "text/plain": [
       "[<__main__.Edge at 0x1eb6c2ab820>, <__main__.Edge at 0x1eb6c2aba00>]"
      ]
     },
     "execution_count": 97,
     "metadata": {},
     "output_type": "execute_result"
    }
   ],
   "source": [
    "# remove_edge(u,v) - Remove an edge\n",
    "graph.remove_edge(2,3)\n",
    "\n",
    "for i in graph._edges:\n",
    "    print(i.u.value,i.v.value)\n",
    "graph.edges()"
   ]
  }
 ],
 "metadata": {
  "kernelspec": {
   "display_name": "Python 3",
   "language": "python",
   "name": "python3"
  },
  "language_info": {
   "codemirror_mode": {
    "name": "ipython",
    "version": 3
   },
   "file_extension": ".py",
   "mimetype": "text/x-python",
   "name": "python",
   "nbconvert_exporter": "python",
   "pygments_lexer": "ipython3",
   "version": "3.8.3"
  }
 },
 "nbformat": 4,
 "nbformat_minor": 4
}
