{
 "cells": [
  {
   "cell_type": "markdown",
   "metadata": {},
   "source": [
    "This notebook contains the DiGraphAdjMatrix class and its methods - separate from GraphAdjMatrix as to not overwhelm the grader with testing."
   ]
  },
  {
   "cell_type": "code",
   "execution_count": 1,
   "metadata": {},
   "outputs": [],
   "source": [
    "class Vertex:\n",
    "    def __init__(self,value=None):\n",
    "        self.value = value\n",
    "        self.adjacent = list()\n",
    "    \n",
    "    # Return tuple of origin/vertex of an edge\n",
    "    def endpoints(self):\n",
    "        verts = (self.u.value,self.v.value)\n",
    "        return verts\n",
    "    \n",
    "    # Return opposite endpoint of a particular edge\n",
    "    def opposite(self,x):\n",
    "        return self.v.value if x is self.u.value else self.u.value\n",
    "        \n",
    "class Graph:\n",
    "    # Return number of vertices in the graph\n",
    "    def vertex_count(self):\n",
    "        print(\"Calling dummy method\")\n",
    "    \n",
    "    # Return all vertices in graph\n",
    "    def vertices(self):\n",
    "        print(\"Calling dummy method\")\n",
    "        \n",
    "    # Return the number of edges in the graph\n",
    "    def edge_count(self):\n",
    "        print(\"Calling dummy method\")\n",
    "        \n",
    "    # Return all edges in graph\n",
    "    def edges(self):\n",
    "        print(\"Calling dummy method\")\n",
    "        \n",
    "    # Return the edge from vertex u to vertex v\n",
    "    def get_edge(self,u,v):\n",
    "        print(\"Calling dummy method\")\n",
    "        \n",
    "    # Return the number of edges incident to vertex v\n",
    "    def degree(self,v,out=True):\n",
    "        print(\"Calling dummy method\")\n",
    "    \n",
    "    # Return an iteration of all edges incident to vertex v\n",
    "    def incident_edges(v,out=True):\n",
    "        print(\"Calling dummy method\")\n",
    "        \n",
    "    # Create and return a new Vertex storing element x\n",
    "    def insert_vertex(self,x=None):\n",
    "        print(\"Calling dummy method\")\n",
    "        \n",
    "    # Create and return a new Edge from vertex u to vertex v, storing element x\n",
    "    def insert_edge(self,u,v,x=None):\n",
    "        print(\"Calling dummy method\")\n",
    "        \n",
    "    # Remove vertex v and all its incident edges from the graph\n",
    "    def remove_vertex(self,v):\n",
    "        print(\"Calling dummy method\")\n",
    "        \n",
    "    # Remove edge e from the graph\n",
    "    def remove_edge(self,e):\n",
    "        print(\"Calling dummy method\")\n",
    "        \n",
    "class GraphAdjMatrix(Graph):\n",
    "    def __init__(self,size):\n",
    "        self.matrix = list()\n",
    "        for i in range(size):\n",
    "            self.matrix.append([0 for i in range(size)])\n",
    "        self.size = size\n",
    "        self.count = 0\n",
    "            \n",
    "    # Return True if u = v, where both are Vertex instances or values\n",
    "    def same_vertex(self,u,v):\n",
    "        # If vertexes are the same\n",
    "        if u == v:\n",
    "            return True\n",
    "        # If u or v are NOT Vertex instance\n",
    "        elif not isinstance(u,Vertex) or not isinstance(v,Vertex):\n",
    "            return False\n",
    "        elif u.value == v.value:\n",
    "            return True\n",
    "        else:\n",
    "            return False\n",
    "    \n",
    "    # Return the edge from vertex u to vertex v\n",
    "    def get_edge(self,u,v):\n",
    "        if self.matrix[u][v] == 1:\n",
    "            return (u,v)\n",
    "        elif self.matrix[u][v] == 0:\n",
    "            return None\n",
    "        else:\n",
    "            return \"That vertex is removed\"\n",
    "    \n",
    "    # Return vertex with value toFind\n",
    "    def get_vertex(self,toFind):\n",
    "        for vert in self._verts:\n",
    "            if self.same_vertex(toFind,vert.value):\n",
    "                return vert\n",
    "        else:\n",
    "            return None\n",
    "                \n",
    "    # Return the number of edges in the graph\n",
    "    def edge_count(self):\n",
    "        return self.count\n",
    "    \n",
    "    # Return the number of vertices in the graph\n",
    "    def vertex_count(self):\n",
    "        return self.size\n",
    "    \n",
    "    # Create and return a new Edge from vertex u to vertex v\n",
    "    def insert_edge(self,u,v,value=None):\n",
    "        if self.matrix[u][v] == 'N' or self.matrix[v][u] == 'N':\n",
    "            return \"That vertex is removed\"\n",
    "        else:\n",
    "            self.matrix[u][v] = 1\n",
    "            self.matrix[v][u] = 1\n",
    "        if u == v:\n",
    "            self.count += 1\n",
    "        else:\n",
    "            # Will have 2 entries - (u,v) and (v,u)\n",
    "            self.count += 2\n",
    "        return (u,v)\n",
    "    \n",
    "    # Create a new Vertex (increase array size) - takes new size as input\n",
    "    def insert_vertex(self,new_size):        \n",
    "        temp_matrix = list()\n",
    "        for i in range(new_size):\n",
    "            temp_matrix.append([0 for i in range(new_size)])\n",
    "        for i in range(self.size):\n",
    "            for j in range(self.size):\n",
    "                temp_matrix[i][j] = self.matrix[i][j]\n",
    "        self.matrix = temp_matrix\n",
    "        # Update size variable\n",
    "        self.size = (new_size - self.size) + self.size\n",
    "    \n",
    "    # Return all edges in graph\n",
    "    def edges(self):\n",
    "        edges = []\n",
    "        for i in range(self.size):\n",
    "            for j in range(self.size):\n",
    "                if self.matrix[i][j] == 1:\n",
    "                    edge = (i,j)\n",
    "                    edges.append(edge)\n",
    "        return edges\n",
    "    \n",
    "    # Return all vertices in graph\n",
    "    def vertices(self):\n",
    "        verts = []\n",
    "        for i in range(self.size):\n",
    "            verts.append(i)\n",
    "        return verts\n",
    "    \n",
    "    # Return the number of edges incident to vertex x\n",
    "    def degree(self,x):\n",
    "        count = 0\n",
    "        for i in range(self.size):\n",
    "            # For every edge x exists in as an endpoint\n",
    "            if self.matrix[x][i] == 1:\n",
    "                count += 1\n",
    "            # Prevents counting an Edge with the same endpoints twice\n",
    "            # Such as (1,1)\n",
    "            if self.matrix[i][x] == 1 and i != x:\n",
    "                count += 1\n",
    "        return count\n",
    "    \n",
    "    # Return an iteration of all edges incident to vertex x\n",
    "    def incident_edges(self,x):\n",
    "        edges = []\n",
    "        for i in range(self.size):\n",
    "            # Appends edges where x is an endpoint\n",
    "            if self.matrix[x][i] == 1:\n",
    "                temp = (x,i)\n",
    "                edges.append(temp)\n",
    "            # Covers other ordering of edges\n",
    "            if self.matrix[i][x] == 1:\n",
    "                if i == x:\n",
    "                    continue\n",
    "                temp = (i,x)\n",
    "                edges.append(temp)\n",
    "        return edges\n",
    "    \n",
    "    # Remove an edge\n",
    "    def remove_edge(self,u,v):\n",
    "        self.matrix[u][v] = 0\n",
    "        self.matrix[v][u] = 0\n",
    "        if u == v:\n",
    "            self.count -= 1\n",
    "        else:\n",
    "            # Accounts for 2 entries - (u,v) and (v,u)\n",
    "            self.count -= 2\n",
    "            \n",
    "    # Remove a vertex (blocks out row/column)\n",
    "    def remove_vertex(self,x):\n",
    "        for i in range(self.size):\n",
    "            self.matrix[x][i] = 'N'\n",
    "            self.matrix[i][x] = 'N'\n",
    "\n",
    "class DiGraphAdjMatrix(GraphAdjMatrix):\n",
    "    def __init__(self,size):\n",
    "        super().__init__(size)\n",
    "        \n",
    "    # Create and return a new Edge from vertex u to vertex v\n",
    "    def insert_edge(self,u,v,value=None):\n",
    "        # Checks if a row is blocked\n",
    "        if self.matrix[u][v] == 'N':\n",
    "            return \"That vertex is removed\"\n",
    "        else:\n",
    "            self.matrix[u][v] = 1\n",
    "        self.count += 1\n",
    "        return (u,v)\n",
    "    \n",
    "    # Return an iteration of all edges incident to vertex x\n",
    "    def incident_edges(self,x):\n",
    "        edges = []\n",
    "        for i in range(self.size):\n",
    "            # Appends edges where x is an endpoint\n",
    "            if self.matrix[x][i] == 1:\n",
    "                temp = (x,i)\n",
    "                edges.append(temp)\n",
    "        return edges\n",
    "    \n",
    "    # Return the number of edges incident to vertex x\n",
    "    def degree(self,x):\n",
    "        count = 0\n",
    "        for i in range(self.size):\n",
    "            # For every edge x exists in as an endpoint\n",
    "            if self.matrix[x][i] == 1:\n",
    "                count += 1\n",
    "        return count\n",
    "    \n",
    "    # Remove an edge\n",
    "    def remove_edge(self,u,v):\n",
    "        self.matrix[u][v] = 0\n",
    "        self.count -= 1"
   ]
  },
  {
   "cell_type": "markdown",
   "metadata": {},
   "source": [
    "Here, I only demo the methods that have been overridden. The others work the same as in the parent class."
   ]
  },
  {
   "cell_type": "code",
   "execution_count": 2,
   "metadata": {},
   "outputs": [],
   "source": [
    "# Instantiate graph\n",
    "graph = DiGraphAdjMatrix(5)"
   ]
  },
  {
   "cell_type": "code",
   "execution_count": 3,
   "metadata": {},
   "outputs": [
    {
     "data": {
      "text/plain": [
       "(2, 1)"
      ]
     },
     "execution_count": 3,
     "metadata": {},
     "output_type": "execute_result"
    }
   ],
   "source": [
    "# insert_edge(u,v) - Create and return a new Edge from vertex u to vertex v\n",
    "graph.insert_edge(1,2)\n",
    "graph.insert_edge(1,3)\n",
    "graph.insert_edge(2,1)"
   ]
  },
  {
   "cell_type": "code",
   "execution_count": 4,
   "metadata": {},
   "outputs": [
    {
     "data": {
      "text/plain": [
       "[(1, 2), (1, 3)]"
      ]
     },
     "execution_count": 4,
     "metadata": {},
     "output_type": "execute_result"
    }
   ],
   "source": [
    "# incident_edges(x) - Return an iteration of all edges incident to vertex x\n",
    "graph.incident_edges(1)"
   ]
  },
  {
   "cell_type": "code",
   "execution_count": 5,
   "metadata": {},
   "outputs": [
    {
     "data": {
      "text/plain": [
       "2"
      ]
     },
     "execution_count": 5,
     "metadata": {},
     "output_type": "execute_result"
    }
   ],
   "source": [
    "# degree(x) - Return the number of edges incident to vertex x\n",
    "graph.degree(1)"
   ]
  },
  {
   "cell_type": "code",
   "execution_count": 6,
   "metadata": {},
   "outputs": [
    {
     "data": {
      "text/plain": [
       "[(1, 2), (1, 3), (2, 1)]"
      ]
     },
     "execution_count": 6,
     "metadata": {},
     "output_type": "execute_result"
    }
   ],
   "source": [
    "# Showing edges before call to remove_edge(2,1)\n",
    "graph.edges()"
   ]
  },
  {
   "cell_type": "code",
   "execution_count": 7,
   "metadata": {},
   "outputs": [],
   "source": [
    "# remove_edge(u,v) - Remove an edge\n",
    "graph.remove_edge(2,1)"
   ]
  },
  {
   "cell_type": "code",
   "execution_count": 8,
   "metadata": {},
   "outputs": [
    {
     "data": {
      "text/plain": [
       "[(1, 2), (1, 3)]"
      ]
     },
     "execution_count": 8,
     "metadata": {},
     "output_type": "execute_result"
    }
   ],
   "source": [
    "# Showing edges after call to remove_edge(2,1)\n",
    "graph.edges()"
   ]
  }
 ],
 "metadata": {
  "kernelspec": {
   "display_name": "Python 3",
   "language": "python",
   "name": "python3"
  },
  "language_info": {
   "codemirror_mode": {
    "name": "ipython",
    "version": 3
   },
   "file_extension": ".py",
   "mimetype": "text/x-python",
   "name": "python",
   "nbconvert_exporter": "python",
   "pygments_lexer": "ipython3",
   "version": "3.8.3"
  }
 },
 "nbformat": 4,
 "nbformat_minor": 4
}
